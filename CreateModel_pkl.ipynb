{
  "nbformat": 4,
  "nbformat_minor": 0,
  "metadata": {
    "colab": {
      "provenance": [],
      "collapsed_sections": [
        "SQ1Z_M8y4vXv"
      ]
    },
    "kernelspec": {
      "name": "python3",
      "display_name": "Python 3"
    },
    "language_info": {
      "name": "python"
    },
    "widgets": {
      "application/vnd.jupyter.widget-state+json": {
        "70ba2db6100f42449e4add1004cf1e76": {
          "model_module": "@jupyter-widgets/controls",
          "model_name": "HBoxModel",
          "model_module_version": "1.5.0",
          "state": {
            "_dom_classes": [],
            "_model_module": "@jupyter-widgets/controls",
            "_model_module_version": "1.5.0",
            "_model_name": "HBoxModel",
            "_view_count": null,
            "_view_module": "@jupyter-widgets/controls",
            "_view_module_version": "1.5.0",
            "_view_name": "HBoxView",
            "box_style": "",
            "children": [
              "IPY_MODEL_2599b87ce08641b28f993df80925e243",
              "IPY_MODEL_7a7bcd2add694d88acb08587a6fd6759",
              "IPY_MODEL_67281e733aa94d069c0c12f0d74c0e97"
            ],
            "layout": "IPY_MODEL_ccb7ca10165e4153a64e34cf8de80779"
          }
        },
        "2599b87ce08641b28f993df80925e243": {
          "model_module": "@jupyter-widgets/controls",
          "model_name": "HTMLModel",
          "model_module_version": "1.5.0",
          "state": {
            "_dom_classes": [],
            "_model_module": "@jupyter-widgets/controls",
            "_model_module_version": "1.5.0",
            "_model_name": "HTMLModel",
            "_view_count": null,
            "_view_module": "@jupyter-widgets/controls",
            "_view_module_version": "1.5.0",
            "_view_name": "HTMLView",
            "description": "",
            "description_tooltip": null,
            "layout": "IPY_MODEL_a8d65734ff1148bc96ad0e3f1c4a4c7c",
            "placeholder": "​",
            "style": "IPY_MODEL_abb8810b60a34109ba0af7bfc3be49fb",
            "value": "100%"
          }
        },
        "7a7bcd2add694d88acb08587a6fd6759": {
          "model_module": "@jupyter-widgets/controls",
          "model_name": "FloatProgressModel",
          "model_module_version": "1.5.0",
          "state": {
            "_dom_classes": [],
            "_model_module": "@jupyter-widgets/controls",
            "_model_module_version": "1.5.0",
            "_model_name": "FloatProgressModel",
            "_view_count": null,
            "_view_module": "@jupyter-widgets/controls",
            "_view_module_version": "1.5.0",
            "_view_name": "ProgressView",
            "bar_style": "success",
            "description": "",
            "description_tooltip": null,
            "layout": "IPY_MODEL_e1f829ccbb804aa2b99b41e4850780d9",
            "max": 107,
            "min": 0,
            "orientation": "horizontal",
            "style": "IPY_MODEL_eac944c2d4c44eaf8edebb4a4b4f9c7f",
            "value": 107
          }
        },
        "67281e733aa94d069c0c12f0d74c0e97": {
          "model_module": "@jupyter-widgets/controls",
          "model_name": "HTMLModel",
          "model_module_version": "1.5.0",
          "state": {
            "_dom_classes": [],
            "_model_module": "@jupyter-widgets/controls",
            "_model_module_version": "1.5.0",
            "_model_name": "HTMLModel",
            "_view_count": null,
            "_view_module": "@jupyter-widgets/controls",
            "_view_module_version": "1.5.0",
            "_view_name": "HTMLView",
            "description": "",
            "description_tooltip": null,
            "layout": "IPY_MODEL_62feedbe94f74d8ea6c9cc1c0956d24b",
            "placeholder": "​",
            "style": "IPY_MODEL_fb8cf844da13455198b5012e719a9ff0",
            "value": " 107/107 [05:02&lt;00:00,  2.17s/it]"
          }
        },
        "ccb7ca10165e4153a64e34cf8de80779": {
          "model_module": "@jupyter-widgets/base",
          "model_name": "LayoutModel",
          "model_module_version": "1.2.0",
          "state": {
            "_model_module": "@jupyter-widgets/base",
            "_model_module_version": "1.2.0",
            "_model_name": "LayoutModel",
            "_view_count": null,
            "_view_module": "@jupyter-widgets/base",
            "_view_module_version": "1.2.0",
            "_view_name": "LayoutView",
            "align_content": null,
            "align_items": null,
            "align_self": null,
            "border": null,
            "bottom": null,
            "display": null,
            "flex": null,
            "flex_flow": null,
            "grid_area": null,
            "grid_auto_columns": null,
            "grid_auto_flow": null,
            "grid_auto_rows": null,
            "grid_column": null,
            "grid_gap": null,
            "grid_row": null,
            "grid_template_areas": null,
            "grid_template_columns": null,
            "grid_template_rows": null,
            "height": null,
            "justify_content": null,
            "justify_items": null,
            "left": null,
            "margin": null,
            "max_height": null,
            "max_width": null,
            "min_height": null,
            "min_width": null,
            "object_fit": null,
            "object_position": null,
            "order": null,
            "overflow": null,
            "overflow_x": null,
            "overflow_y": null,
            "padding": null,
            "right": null,
            "top": null,
            "visibility": null,
            "width": null
          }
        },
        "a8d65734ff1148bc96ad0e3f1c4a4c7c": {
          "model_module": "@jupyter-widgets/base",
          "model_name": "LayoutModel",
          "model_module_version": "1.2.0",
          "state": {
            "_model_module": "@jupyter-widgets/base",
            "_model_module_version": "1.2.0",
            "_model_name": "LayoutModel",
            "_view_count": null,
            "_view_module": "@jupyter-widgets/base",
            "_view_module_version": "1.2.0",
            "_view_name": "LayoutView",
            "align_content": null,
            "align_items": null,
            "align_self": null,
            "border": null,
            "bottom": null,
            "display": null,
            "flex": null,
            "flex_flow": null,
            "grid_area": null,
            "grid_auto_columns": null,
            "grid_auto_flow": null,
            "grid_auto_rows": null,
            "grid_column": null,
            "grid_gap": null,
            "grid_row": null,
            "grid_template_areas": null,
            "grid_template_columns": null,
            "grid_template_rows": null,
            "height": null,
            "justify_content": null,
            "justify_items": null,
            "left": null,
            "margin": null,
            "max_height": null,
            "max_width": null,
            "min_height": null,
            "min_width": null,
            "object_fit": null,
            "object_position": null,
            "order": null,
            "overflow": null,
            "overflow_x": null,
            "overflow_y": null,
            "padding": null,
            "right": null,
            "top": null,
            "visibility": null,
            "width": null
          }
        },
        "abb8810b60a34109ba0af7bfc3be49fb": {
          "model_module": "@jupyter-widgets/controls",
          "model_name": "DescriptionStyleModel",
          "model_module_version": "1.5.0",
          "state": {
            "_model_module": "@jupyter-widgets/controls",
            "_model_module_version": "1.5.0",
            "_model_name": "DescriptionStyleModel",
            "_view_count": null,
            "_view_module": "@jupyter-widgets/base",
            "_view_module_version": "1.2.0",
            "_view_name": "StyleView",
            "description_width": ""
          }
        },
        "e1f829ccbb804aa2b99b41e4850780d9": {
          "model_module": "@jupyter-widgets/base",
          "model_name": "LayoutModel",
          "model_module_version": "1.2.0",
          "state": {
            "_model_module": "@jupyter-widgets/base",
            "_model_module_version": "1.2.0",
            "_model_name": "LayoutModel",
            "_view_count": null,
            "_view_module": "@jupyter-widgets/base",
            "_view_module_version": "1.2.0",
            "_view_name": "LayoutView",
            "align_content": null,
            "align_items": null,
            "align_self": null,
            "border": null,
            "bottom": null,
            "display": null,
            "flex": null,
            "flex_flow": null,
            "grid_area": null,
            "grid_auto_columns": null,
            "grid_auto_flow": null,
            "grid_auto_rows": null,
            "grid_column": null,
            "grid_gap": null,
            "grid_row": null,
            "grid_template_areas": null,
            "grid_template_columns": null,
            "grid_template_rows": null,
            "height": null,
            "justify_content": null,
            "justify_items": null,
            "left": null,
            "margin": null,
            "max_height": null,
            "max_width": null,
            "min_height": null,
            "min_width": null,
            "object_fit": null,
            "object_position": null,
            "order": null,
            "overflow": null,
            "overflow_x": null,
            "overflow_y": null,
            "padding": null,
            "right": null,
            "top": null,
            "visibility": null,
            "width": null
          }
        },
        "eac944c2d4c44eaf8edebb4a4b4f9c7f": {
          "model_module": "@jupyter-widgets/controls",
          "model_name": "ProgressStyleModel",
          "model_module_version": "1.5.0",
          "state": {
            "_model_module": "@jupyter-widgets/controls",
            "_model_module_version": "1.5.0",
            "_model_name": "ProgressStyleModel",
            "_view_count": null,
            "_view_module": "@jupyter-widgets/base",
            "_view_module_version": "1.2.0",
            "_view_name": "StyleView",
            "bar_color": null,
            "description_width": ""
          }
        },
        "62feedbe94f74d8ea6c9cc1c0956d24b": {
          "model_module": "@jupyter-widgets/base",
          "model_name": "LayoutModel",
          "model_module_version": "1.2.0",
          "state": {
            "_model_module": "@jupyter-widgets/base",
            "_model_module_version": "1.2.0",
            "_model_name": "LayoutModel",
            "_view_count": null,
            "_view_module": "@jupyter-widgets/base",
            "_view_module_version": "1.2.0",
            "_view_name": "LayoutView",
            "align_content": null,
            "align_items": null,
            "align_self": null,
            "border": null,
            "bottom": null,
            "display": null,
            "flex": null,
            "flex_flow": null,
            "grid_area": null,
            "grid_auto_columns": null,
            "grid_auto_flow": null,
            "grid_auto_rows": null,
            "grid_column": null,
            "grid_gap": null,
            "grid_row": null,
            "grid_template_areas": null,
            "grid_template_columns": null,
            "grid_template_rows": null,
            "height": null,
            "justify_content": null,
            "justify_items": null,
            "left": null,
            "margin": null,
            "max_height": null,
            "max_width": null,
            "min_height": null,
            "min_width": null,
            "object_fit": null,
            "object_position": null,
            "order": null,
            "overflow": null,
            "overflow_x": null,
            "overflow_y": null,
            "padding": null,
            "right": null,
            "top": null,
            "visibility": null,
            "width": null
          }
        },
        "fb8cf844da13455198b5012e719a9ff0": {
          "model_module": "@jupyter-widgets/controls",
          "model_name": "DescriptionStyleModel",
          "model_module_version": "1.5.0",
          "state": {
            "_model_module": "@jupyter-widgets/controls",
            "_model_module_version": "1.5.0",
            "_model_name": "DescriptionStyleModel",
            "_view_count": null,
            "_view_module": "@jupyter-widgets/base",
            "_view_module_version": "1.2.0",
            "_view_name": "StyleView",
            "description_width": ""
          }
        }
      }
    }
  },
  "cells": [
    {
      "cell_type": "markdown",
      "source": [
        "# **Librerías**\n"
      ],
      "metadata": {
        "id": "SQ1Z_M8y4vXv"
      }
    },
    {
      "cell_type": "code",
      "execution_count": 2,
      "metadata": {
        "colab": {
          "base_uri": "https://localhost:8080/"
        },
        "id": "VAiA-qHv3HXN",
        "outputId": "a0fc89ad-60d7-44b9-9365-99be5d48df40"
      },
      "outputs": [
        {
          "output_type": "stream",
          "name": "stdout",
          "text": [
            "Mounted at /content/drive\n"
          ]
        }
      ],
      "source": [
        "from google.colab import drive\n",
        "drive.mount('/content/drive', force_remount=True)\n"
      ]
    },
    {
      "cell_type": "code",
      "source": [
        "#@title librerias\n",
        "\n",
        "!pip install pandas\n",
        "!pip install scikit-learn\n",
        "!pip install skforecast\n",
        "!pip install matplotlib"
      ],
      "metadata": {
        "colab": {
          "base_uri": "https://localhost:8080/"
        },
        "cellView": "form",
        "id": "iyLKfTH73YAT",
        "outputId": "ba0555e0-dc2b-487d-bf4d-6fd31823e2f6"
      },
      "execution_count": 4,
      "outputs": [
        {
          "output_type": "stream",
          "name": "stdout",
          "text": [
            "Looking in indexes: https://pypi.org/simple, https://us-python.pkg.dev/colab-wheels/public/simple/\n",
            "Requirement already satisfied: pandas in /usr/local/lib/python3.10/dist-packages (1.5.3)\n",
            "Requirement already satisfied: python-dateutil>=2.8.1 in /usr/local/lib/python3.10/dist-packages (from pandas) (2.8.2)\n",
            "Requirement already satisfied: pytz>=2020.1 in /usr/local/lib/python3.10/dist-packages (from pandas) (2022.7.1)\n",
            "Requirement already satisfied: numpy>=1.21.0 in /usr/local/lib/python3.10/dist-packages (from pandas) (1.22.4)\n",
            "Requirement already satisfied: six>=1.5 in /usr/local/lib/python3.10/dist-packages (from python-dateutil>=2.8.1->pandas) (1.16.0)\n",
            "Looking in indexes: https://pypi.org/simple, https://us-python.pkg.dev/colab-wheels/public/simple/\n",
            "Requirement already satisfied: scikit-learn in /usr/local/lib/python3.10/dist-packages (1.2.2)\n",
            "Requirement already satisfied: numpy>=1.17.3 in /usr/local/lib/python3.10/dist-packages (from scikit-learn) (1.22.4)\n",
            "Requirement already satisfied: scipy>=1.3.2 in /usr/local/lib/python3.10/dist-packages (from scikit-learn) (1.10.1)\n",
            "Requirement already satisfied: joblib>=1.1.1 in /usr/local/lib/python3.10/dist-packages (from scikit-learn) (1.2.0)\n",
            "Requirement already satisfied: threadpoolctl>=2.0.0 in /usr/local/lib/python3.10/dist-packages (from scikit-learn) (3.1.0)\n",
            "Looking in indexes: https://pypi.org/simple, https://us-python.pkg.dev/colab-wheels/public/simple/\n",
            "Collecting skforecast\n",
            "  Downloading skforecast-0.8.0-py2.py3-none-any.whl (384 kB)\n",
            "\u001b[2K     \u001b[90m━━━━━━━━━━━━━━━━━━━━━━━━━━━━━━━━━━━━━━━\u001b[0m \u001b[32m384.4/384.4 kB\u001b[0m \u001b[31m7.6 MB/s\u001b[0m eta \u001b[36m0:00:00\u001b[0m\n",
            "\u001b[?25hRequirement already satisfied: numpy<1.25,>=1.20 in /usr/local/lib/python3.10/dist-packages (from skforecast) (1.22.4)\n",
            "Requirement already satisfied: pandas<2.1,>=1.2 in /usr/local/lib/python3.10/dist-packages (from skforecast) (1.5.3)\n",
            "Collecting tqdm<4.65,>=4.57.0 (from skforecast)\n",
            "  Downloading tqdm-4.64.1-py2.py3-none-any.whl (78 kB)\n",
            "\u001b[2K     \u001b[90m━━━━━━━━━━━━━━━━━━━━━━━━━━━━━━━━━━━━━━━━\u001b[0m \u001b[32m78.5/78.5 kB\u001b[0m \u001b[31m7.7 MB/s\u001b[0m eta \u001b[36m0:00:00\u001b[0m\n",
            "\u001b[?25hRequirement already satisfied: scikit-learn<1.3,>=1.0 in /usr/local/lib/python3.10/dist-packages (from skforecast) (1.2.2)\n",
            "Collecting optuna<3.2,>=2.10.0 (from skforecast)\n",
            "  Downloading optuna-3.1.1-py3-none-any.whl (365 kB)\n",
            "\u001b[2K     \u001b[90m━━━━━━━━━━━━━━━━━━━━━━━━━━━━━━━━━━━━━━\u001b[0m \u001b[32m365.7/365.7 kB\u001b[0m \u001b[31m28.1 MB/s\u001b[0m eta \u001b[36m0:00:00\u001b[0m\n",
            "\u001b[?25hRequirement already satisfied: joblib<1.3.0,>=1.1.0 in /usr/local/lib/python3.10/dist-packages (from skforecast) (1.2.0)\n",
            "Collecting alembic>=1.5.0 (from optuna<3.2,>=2.10.0->skforecast)\n",
            "  Downloading alembic-1.11.1-py3-none-any.whl (224 kB)\n",
            "\u001b[2K     \u001b[90m━━━━━━━━━━━━━━━━━━━━━━━━━━━━━━━━━━━━━━\u001b[0m \u001b[32m224.5/224.5 kB\u001b[0m \u001b[31m17.3 MB/s\u001b[0m eta \u001b[36m0:00:00\u001b[0m\n",
            "\u001b[?25hCollecting cmaes>=0.9.1 (from optuna<3.2,>=2.10.0->skforecast)\n",
            "  Downloading cmaes-0.9.1-py3-none-any.whl (21 kB)\n",
            "Collecting colorlog (from optuna<3.2,>=2.10.0->skforecast)\n",
            "  Downloading colorlog-6.7.0-py2.py3-none-any.whl (11 kB)\n",
            "Requirement already satisfied: packaging>=20.0 in /usr/local/lib/python3.10/dist-packages (from optuna<3.2,>=2.10.0->skforecast) (23.1)\n",
            "Requirement already satisfied: sqlalchemy>=1.3.0 in /usr/local/lib/python3.10/dist-packages (from optuna<3.2,>=2.10.0->skforecast) (2.0.10)\n",
            "Requirement already satisfied: PyYAML in /usr/local/lib/python3.10/dist-packages (from optuna<3.2,>=2.10.0->skforecast) (6.0)\n",
            "Requirement already satisfied: python-dateutil>=2.8.1 in /usr/local/lib/python3.10/dist-packages (from pandas<2.1,>=1.2->skforecast) (2.8.2)\n",
            "Requirement already satisfied: pytz>=2020.1 in /usr/local/lib/python3.10/dist-packages (from pandas<2.1,>=1.2->skforecast) (2022.7.1)\n",
            "Requirement already satisfied: scipy>=1.3.2 in /usr/local/lib/python3.10/dist-packages (from scikit-learn<1.3,>=1.0->skforecast) (1.10.1)\n",
            "Requirement already satisfied: threadpoolctl>=2.0.0 in /usr/local/lib/python3.10/dist-packages (from scikit-learn<1.3,>=1.0->skforecast) (3.1.0)\n",
            "Collecting Mako (from alembic>=1.5.0->optuna<3.2,>=2.10.0->skforecast)\n",
            "  Downloading Mako-1.2.4-py3-none-any.whl (78 kB)\n",
            "\u001b[2K     \u001b[90m━━━━━━━━━━━━━━━━━━━━━━━━━━━━━━━━━━━━━━━━\u001b[0m \u001b[32m78.7/78.7 kB\u001b[0m \u001b[31m6.3 MB/s\u001b[0m eta \u001b[36m0:00:00\u001b[0m\n",
            "\u001b[?25hRequirement already satisfied: typing-extensions>=4 in /usr/local/lib/python3.10/dist-packages (from alembic>=1.5.0->optuna<3.2,>=2.10.0->skforecast) (4.5.0)\n",
            "Requirement already satisfied: six>=1.5 in /usr/local/lib/python3.10/dist-packages (from python-dateutil>=2.8.1->pandas<2.1,>=1.2->skforecast) (1.16.0)\n",
            "Requirement already satisfied: greenlet!=0.4.17 in /usr/local/lib/python3.10/dist-packages (from sqlalchemy>=1.3.0->optuna<3.2,>=2.10.0->skforecast) (2.0.2)\n",
            "Requirement already satisfied: MarkupSafe>=0.9.2 in /usr/local/lib/python3.10/dist-packages (from Mako->alembic>=1.5.0->optuna<3.2,>=2.10.0->skforecast) (2.1.2)\n",
            "Installing collected packages: tqdm, Mako, colorlog, cmaes, alembic, optuna, skforecast\n",
            "  Attempting uninstall: tqdm\n",
            "    Found existing installation: tqdm 4.65.0\n",
            "    Uninstalling tqdm-4.65.0:\n",
            "      Successfully uninstalled tqdm-4.65.0\n",
            "Successfully installed Mako-1.2.4 alembic-1.11.1 cmaes-0.9.1 colorlog-6.7.0 optuna-3.1.1 skforecast-0.8.0 tqdm-4.64.1\n",
            "Looking in indexes: https://pypi.org/simple, https://us-python.pkg.dev/colab-wheels/public/simple/\n",
            "Requirement already satisfied: matplotlib in /usr/local/lib/python3.10/dist-packages (3.7.1)\n",
            "Requirement already satisfied: contourpy>=1.0.1 in /usr/local/lib/python3.10/dist-packages (from matplotlib) (1.0.7)\n",
            "Requirement already satisfied: cycler>=0.10 in /usr/local/lib/python3.10/dist-packages (from matplotlib) (0.11.0)\n",
            "Requirement already satisfied: fonttools>=4.22.0 in /usr/local/lib/python3.10/dist-packages (from matplotlib) (4.39.3)\n",
            "Requirement already satisfied: kiwisolver>=1.0.1 in /usr/local/lib/python3.10/dist-packages (from matplotlib) (1.4.4)\n",
            "Requirement already satisfied: numpy>=1.20 in /usr/local/lib/python3.10/dist-packages (from matplotlib) (1.22.4)\n",
            "Requirement already satisfied: packaging>=20.0 in /usr/local/lib/python3.10/dist-packages (from matplotlib) (23.1)\n",
            "Requirement already satisfied: pillow>=6.2.0 in /usr/local/lib/python3.10/dist-packages (from matplotlib) (8.4.0)\n",
            "Requirement already satisfied: pyparsing>=2.3.1 in /usr/local/lib/python3.10/dist-packages (from matplotlib) (3.0.9)\n",
            "Requirement already satisfied: python-dateutil>=2.7 in /usr/local/lib/python3.10/dist-packages (from matplotlib) (2.8.2)\n",
            "Requirement already satisfied: six>=1.5 in /usr/local/lib/python3.10/dist-packages (from python-dateutil>=2.7->matplotlib) (1.16.0)\n"
          ]
        }
      ]
    },
    {
      "cell_type": "code",
      "source": [
        "#@title uso librerias\n",
        "\n",
        "# Tratamiento de datos\n",
        "# ==============================================================================\n",
        "import numpy as np\n",
        "import pandas as pd\n",
        "\n",
        "# Gráficos\n",
        "# ==============================================================================\n",
        "import matplotlib.pyplot as plt\n",
        "import seaborn as sns\n",
        "# %matplotlib inline\n",
        "from statsmodels.graphics.tsaplots import plot_acf\n",
        "from statsmodels.graphics.tsaplots import plot_pacf\n",
        "plt.style.use('fivethirtyeight')\n",
        "\n",
        "# Modelado y Forecasting\n",
        "# ==============================================================================\n",
        "from sklearn.linear_model import Ridge\n",
        "from sklearn.pipeline import make_pipeline\n",
        "from sklearn.preprocessing import StandardScaler\n",
        "from sklearn.metrics import mean_absolute_error\n",
        "from skforecast.ForecasterAutoreg import ForecasterAutoreg\n",
        "from skforecast.ForecasterAutoregMultiOutput import ForecasterAutoregMultiOutput\n",
        "from skforecast.model_selection import grid_search_forecaster\n",
        "from skforecast.model_selection import backtesting_forecaster\n",
        "from sklearn.linear_model import LinearRegression\n",
        "from sklearn.linear_model import Lasso\n",
        "from sklearn.ensemble import RandomForestRegressor\n",
        "from sklearn.metrics import mean_squared_error\n",
        "from sklearn.preprocessing import StandardScaler\n",
        "from sklearn.pipeline import make_pipeline\n",
        "from skforecast.ForecasterAutoreg import ForecasterAutoreg\n",
        "from skforecast.ForecasterAutoregCustom import ForecasterAutoregCustom\n",
        "from skforecast.ForecasterAutoregDirect import ForecasterAutoregDirect\n",
        "from skforecast.model_selection import grid_search_forecaster\n",
        "from skforecast.model_selection import backtesting_forecaster\n",
        "from skforecast.utils import save_forecaster\n",
        "from skforecast.utils import load_forecaster\n",
        "\n",
        "# Configuración warnings\n",
        "# ==============================================================================\n",
        "import warnings\n",
        "warnings.filterwarnings('ignore')"
      ],
      "metadata": {
        "id": "Eqfke6UG3g-n"
      },
      "execution_count": 5,
      "outputs": []
    },
    {
      "cell_type": "markdown",
      "source": [
        "# **Datos**"
      ],
      "metadata": {
        "id": "4-cTV9zpnLYV"
      }
    },
    {
      "cell_type": "code",
      "source": [
        "# Descarga de datos\n",
        "# ==============================================================================\n",
        "arch = ('drive/MyDrive/MATRICES/completo_ok.csv')\n",
        "datos = pd.read_csv(arch)\n",
        "\n",
        "# Conversión del formato fecha\n",
        "# ==============================================================================\n",
        "datos['Fecha'] = pd.to_datetime(datos['Fecha'])\n",
        "datos = datos.set_index('Fecha')\n",
        "datos = datos.asfreq('60min')\n",
        "datos = datos.sort_index()\n",
        "datos.info()\n",
        "datos.head(5)"
      ],
      "metadata": {
        "colab": {
          "base_uri": "https://localhost:8080/",
          "height": 493
        },
        "id": "PYIZRUto3mht",
        "outputId": "8a973b53-d628-43aa-c757-214f81e9d501"
      },
      "execution_count": 6,
      "outputs": [
        {
          "output_type": "stream",
          "name": "stdout",
          "text": [
            "<class 'pandas.core.frame.DataFrame'>\n",
            "DatetimeIndex: 7297 entries, 2021-07-01 00:00:00 to 2022-05-01 00:00:00\n",
            "Freq: 60T\n",
            "Data columns (total 6 columns):\n",
            " #   Column       Non-Null Count  Dtype  \n",
            "---  ------       --------------  -----  \n",
            " 0   ID           7295 non-null   float64\n",
            " 1   Dia          7295 non-null   float64\n",
            " 2   Demanda      7295 non-null   float64\n",
            " 3   Temperatura  7295 non-null   float64\n",
            " 4   Feriado      7295 non-null   float64\n",
            " 5   Publico      7295 non-null   float64\n",
            "dtypes: float64(6)\n",
            "memory usage: 399.1 KB\n"
          ]
        },
        {
          "output_type": "execute_result",
          "data": {
            "text/plain": [
              "                      ID  Dia       Demanda  Temperatura  Feriado  Publico\n",
              "Fecha                                                                     \n",
              "2021-07-01 00:00:00  0.0  4.0  1.721749e+09          8.7      0.0      0.0\n",
              "2021-07-01 01:00:00  1.0  4.0  1.731463e+09          8.4      0.0      0.0\n",
              "2021-07-01 02:00:00  2.0  4.0  1.676359e+09          8.2      0.0      0.0\n",
              "2021-07-01 03:00:00  3.0  4.0  1.653973e+09          7.7      0.0      0.0\n",
              "2021-07-01 04:00:00  4.0  4.0  1.653886e+09          7.2      0.0      0.0"
            ],
            "text/html": [
              "\n",
              "  <div id=\"df-45f1c4a8-ea5a-4849-b4e3-1bfac0400c00\">\n",
              "    <div class=\"colab-df-container\">\n",
              "      <div>\n",
              "<style scoped>\n",
              "    .dataframe tbody tr th:only-of-type {\n",
              "        vertical-align: middle;\n",
              "    }\n",
              "\n",
              "    .dataframe tbody tr th {\n",
              "        vertical-align: top;\n",
              "    }\n",
              "\n",
              "    .dataframe thead th {\n",
              "        text-align: right;\n",
              "    }\n",
              "</style>\n",
              "<table border=\"1\" class=\"dataframe\">\n",
              "  <thead>\n",
              "    <tr style=\"text-align: right;\">\n",
              "      <th></th>\n",
              "      <th>ID</th>\n",
              "      <th>Dia</th>\n",
              "      <th>Demanda</th>\n",
              "      <th>Temperatura</th>\n",
              "      <th>Feriado</th>\n",
              "      <th>Publico</th>\n",
              "    </tr>\n",
              "    <tr>\n",
              "      <th>Fecha</th>\n",
              "      <th></th>\n",
              "      <th></th>\n",
              "      <th></th>\n",
              "      <th></th>\n",
              "      <th></th>\n",
              "      <th></th>\n",
              "    </tr>\n",
              "  </thead>\n",
              "  <tbody>\n",
              "    <tr>\n",
              "      <th>2021-07-01 00:00:00</th>\n",
              "      <td>0.0</td>\n",
              "      <td>4.0</td>\n",
              "      <td>1.721749e+09</td>\n",
              "      <td>8.7</td>\n",
              "      <td>0.0</td>\n",
              "      <td>0.0</td>\n",
              "    </tr>\n",
              "    <tr>\n",
              "      <th>2021-07-01 01:00:00</th>\n",
              "      <td>1.0</td>\n",
              "      <td>4.0</td>\n",
              "      <td>1.731463e+09</td>\n",
              "      <td>8.4</td>\n",
              "      <td>0.0</td>\n",
              "      <td>0.0</td>\n",
              "    </tr>\n",
              "    <tr>\n",
              "      <th>2021-07-01 02:00:00</th>\n",
              "      <td>2.0</td>\n",
              "      <td>4.0</td>\n",
              "      <td>1.676359e+09</td>\n",
              "      <td>8.2</td>\n",
              "      <td>0.0</td>\n",
              "      <td>0.0</td>\n",
              "    </tr>\n",
              "    <tr>\n",
              "      <th>2021-07-01 03:00:00</th>\n",
              "      <td>3.0</td>\n",
              "      <td>4.0</td>\n",
              "      <td>1.653973e+09</td>\n",
              "      <td>7.7</td>\n",
              "      <td>0.0</td>\n",
              "      <td>0.0</td>\n",
              "    </tr>\n",
              "    <tr>\n",
              "      <th>2021-07-01 04:00:00</th>\n",
              "      <td>4.0</td>\n",
              "      <td>4.0</td>\n",
              "      <td>1.653886e+09</td>\n",
              "      <td>7.2</td>\n",
              "      <td>0.0</td>\n",
              "      <td>0.0</td>\n",
              "    </tr>\n",
              "  </tbody>\n",
              "</table>\n",
              "</div>\n",
              "      <button class=\"colab-df-convert\" onclick=\"convertToInteractive('df-45f1c4a8-ea5a-4849-b4e3-1bfac0400c00')\"\n",
              "              title=\"Convert this dataframe to an interactive table.\"\n",
              "              style=\"display:none;\">\n",
              "        \n",
              "  <svg xmlns=\"http://www.w3.org/2000/svg\" height=\"24px\"viewBox=\"0 0 24 24\"\n",
              "       width=\"24px\">\n",
              "    <path d=\"M0 0h24v24H0V0z\" fill=\"none\"/>\n",
              "    <path d=\"M18.56 5.44l.94 2.06.94-2.06 2.06-.94-2.06-.94-.94-2.06-.94 2.06-2.06.94zm-11 1L8.5 8.5l.94-2.06 2.06-.94-2.06-.94L8.5 2.5l-.94 2.06-2.06.94zm10 10l.94 2.06.94-2.06 2.06-.94-2.06-.94-.94-2.06-.94 2.06-2.06.94z\"/><path d=\"M17.41 7.96l-1.37-1.37c-.4-.4-.92-.59-1.43-.59-.52 0-1.04.2-1.43.59L10.3 9.45l-7.72 7.72c-.78.78-.78 2.05 0 2.83L4 21.41c.39.39.9.59 1.41.59.51 0 1.02-.2 1.41-.59l7.78-7.78 2.81-2.81c.8-.78.8-2.07 0-2.86zM5.41 20L4 18.59l7.72-7.72 1.47 1.35L5.41 20z\"/>\n",
              "  </svg>\n",
              "      </button>\n",
              "      \n",
              "  <style>\n",
              "    .colab-df-container {\n",
              "      display:flex;\n",
              "      flex-wrap:wrap;\n",
              "      gap: 12px;\n",
              "    }\n",
              "\n",
              "    .colab-df-convert {\n",
              "      background-color: #E8F0FE;\n",
              "      border: none;\n",
              "      border-radius: 50%;\n",
              "      cursor: pointer;\n",
              "      display: none;\n",
              "      fill: #1967D2;\n",
              "      height: 32px;\n",
              "      padding: 0 0 0 0;\n",
              "      width: 32px;\n",
              "    }\n",
              "\n",
              "    .colab-df-convert:hover {\n",
              "      background-color: #E2EBFA;\n",
              "      box-shadow: 0px 1px 2px rgba(60, 64, 67, 0.3), 0px 1px 3px 1px rgba(60, 64, 67, 0.15);\n",
              "      fill: #174EA6;\n",
              "    }\n",
              "\n",
              "    [theme=dark] .colab-df-convert {\n",
              "      background-color: #3B4455;\n",
              "      fill: #D2E3FC;\n",
              "    }\n",
              "\n",
              "    [theme=dark] .colab-df-convert:hover {\n",
              "      background-color: #434B5C;\n",
              "      box-shadow: 0px 1px 3px 1px rgba(0, 0, 0, 0.15);\n",
              "      filter: drop-shadow(0px 1px 2px rgba(0, 0, 0, 0.3));\n",
              "      fill: #FFFFFF;\n",
              "    }\n",
              "  </style>\n",
              "\n",
              "      <script>\n",
              "        const buttonEl =\n",
              "          document.querySelector('#df-45f1c4a8-ea5a-4849-b4e3-1bfac0400c00 button.colab-df-convert');\n",
              "        buttonEl.style.display =\n",
              "          google.colab.kernel.accessAllowed ? 'block' : 'none';\n",
              "\n",
              "        async function convertToInteractive(key) {\n",
              "          const element = document.querySelector('#df-45f1c4a8-ea5a-4849-b4e3-1bfac0400c00');\n",
              "          const dataTable =\n",
              "            await google.colab.kernel.invokeFunction('convertToInteractive',\n",
              "                                                     [key], {});\n",
              "          if (!dataTable) return;\n",
              "\n",
              "          const docLinkHtml = 'Like what you see? Visit the ' +\n",
              "            '<a target=\"_blank\" href=https://colab.research.google.com/notebooks/data_table.ipynb>data table notebook</a>'\n",
              "            + ' to learn more about interactive tables.';\n",
              "          element.innerHTML = '';\n",
              "          dataTable['output_type'] = 'display_data';\n",
              "          await google.colab.output.renderOutput(dataTable, element);\n",
              "          const docLink = document.createElement('div');\n",
              "          docLink.innerHTML = docLinkHtml;\n",
              "          element.appendChild(docLink);\n",
              "        }\n",
              "      </script>\n",
              "    </div>\n",
              "  </div>\n",
              "  "
            ]
          },
          "metadata": {},
          "execution_count": 6
        }
      ]
    },
    {
      "cell_type": "code",
      "source": [
        "# Verificar que un índice temporal está completo\n",
        "# ==============================================================================\n",
        "(datos.index == pd.date_range(start=datos.index.min(),\n",
        "                              end=datos.index.max(),\n",
        "                              freq=datos.index.freq)).all()"
      ],
      "metadata": {
        "id": "jRsGMIwlm6Bu"
      },
      "execution_count": null,
      "outputs": []
    },
    {
      "cell_type": "code",
      "source": [
        "#Separación datos train-val-test\n",
        "# ==============================================================================\n",
        "datos = datos.loc['2021-07-01 00:00:00': '2022-05-01 23:00:00']\n",
        "fin_train = '2022-01-31 23:59:00'\n",
        "fin_validacion = '2022-03-31 00:00:00'\n",
        "datos_train = datos.loc[: fin_train, :]\n",
        "datos_val   = datos.loc[fin_train:fin_validacion, :]\n",
        "datos_test  = datos.loc[fin_validacion:, :]\n",
        "\n",
        "print(f\"Fechas train      : {datos_train.index.min()} --- {datos_train.index.max()}  (n={len(datos_train)})\")\n",
        "print(f\"Fechas validacion : {datos_val.index.min()} --- {datos_val.index.max()}  (n={len(datos_val)})\")\n",
        "print(f\"Fechas test       : {datos_test.index.min()} --- {datos_test.index.max()}  (n={len(datos_test)})\")"
      ],
      "metadata": {
        "id": "R40kghQ_m68R"
      },
      "execution_count": null,
      "outputs": []
    },
    {
      "cell_type": "markdown",
      "source": [
        "# **Crear model.pkl**"
      ],
      "metadata": {
        "id": "NCViNGble3la"
      }
    },
    {
      "cell_type": "code",
      "source": [
        "import pickle\n",
        "from lightgbm import LGBMRegressor  \n",
        "\n",
        "\n",
        "def entrenar_y_guardar_modelo(datos):\n",
        "    # Crear una nueva instancia de LGBMRegressor con los hiperparámetros encontrados\n",
        "    regressor = LGBMRegressor(learning_rate=0.01, max_depth=3, n_estimators=500)\n",
        "\n",
        "    # Crear una nueva instancia de ForecasterAutoreg con el nuevo regressor\n",
        "    forecaster = ForecasterAutoreg(\n",
        "                    regressor = regressor,\n",
        "                    lags = 7\n",
        "                )\n",
        "\n",
        "    forecaster.fit(y=datos.Demanda['2021-10-01 00:00':'2021-11-02 23:00'])\n",
        "\n",
        "    # Guardar el modelo entrenado en un archivo\n",
        "    with open('model.pkl', 'wb') as file:\n",
        "        pickle.dump(forecaster, file)\n",
        "\n",
        "entrenar_y_guardar_modelo(datos)\n"
      ],
      "metadata": {
        "id": "1W2uKx5LhRPV"
      },
      "execution_count": 31,
      "outputs": []
    },
    {
      "cell_type": "markdown",
      "source": [
        "# **Prueba model.pkl con datos recolectados**\n"
      ],
      "metadata": {
        "id": "ojZp52fR47z9"
      }
    },
    {
      "cell_type": "code",
      "source": [
        "#@title prueba\n",
        "# Backtesting\n",
        "# Tener en cuenta subir el archivo model.pkl\n",
        "# ==============================================================================\n",
        "\n",
        "def make_predictions(model_file, data, initial_train_size=47, steps=7, interval=[10, 90], n_boot=1000):\n",
        "    # Load the serialized model from the file\n",
        "    with open(model_file, 'rb') as file:\n",
        "        forecaster = pickle.load(file)\n",
        "\n",
        "    # Make predictions using the loaded model\n",
        "    metric, predictions = backtesting_forecaster(\n",
        "                                forecaster = forecaster,\n",
        "                                y          = data,\n",
        "                                initial_train_size = initial_train_size,\n",
        "                                fixed_train_size   = False,\n",
        "                                steps      = steps,\n",
        "                                refit      = True,\n",
        "                                interval   = interval,\n",
        "                                n_boot     = n_boot,\n",
        "                                metric     = 'mean_squared_error',\n",
        "                                verbose    = False\n",
        "                          )\n",
        "\n",
        "    return predictions"
      ],
      "metadata": {
        "id": "bx_GewDA5bTF",
        "cellView": "form"
      },
      "execution_count": 32,
      "outputs": []
    },
    {
      "cell_type": "code",
      "source": [
        "predictions = make_predictions('model.pkl', datos.Demanda['2021-10-01 00:00':'2021-11-02 23:00'])\n",
        "predictions.head(4)"
      ],
      "metadata": {
        "colab": {
          "base_uri": "https://localhost:8080/",
          "height": 207,
          "referenced_widgets": [
            "70ba2db6100f42449e4add1004cf1e76",
            "2599b87ce08641b28f993df80925e243",
            "7a7bcd2add694d88acb08587a6fd6759",
            "67281e733aa94d069c0c12f0d74c0e97",
            "ccb7ca10165e4153a64e34cf8de80779",
            "a8d65734ff1148bc96ad0e3f1c4a4c7c",
            "abb8810b60a34109ba0af7bfc3be49fb",
            "e1f829ccbb804aa2b99b41e4850780d9",
            "eac944c2d4c44eaf8edebb4a4b4f9c7f",
            "62feedbe94f74d8ea6c9cc1c0956d24b",
            "fb8cf844da13455198b5012e719a9ff0"
          ]
        },
        "id": "nla4EUgJ5gsI",
        "outputId": "ee2930d9-12fc-4952-c409-ce7ed3985061"
      },
      "execution_count": 33,
      "outputs": [
        {
          "output_type": "display_data",
          "data": {
            "text/plain": [
              "  0%|          | 0/107 [00:00<?, ?it/s]"
            ],
            "application/vnd.jupyter.widget-view+json": {
              "version_major": 2,
              "version_minor": 0,
              "model_id": "70ba2db6100f42449e4add1004cf1e76"
            }
          },
          "metadata": {}
        },
        {
          "output_type": "execute_result",
          "data": {
            "text/plain": [
              "                             pred   lower_bound   upper_bound\n",
              "2021-10-02 23:00:00  4.685564e+09  1.081363e+09  8.942916e+09\n",
              "2021-10-03 00:00:00  4.685564e+09  1.081363e+09  9.252964e+09\n",
              "2021-10-03 01:00:00  4.685564e+09  6.789309e+08  9.252964e+09\n",
              "2021-10-03 02:00:00  4.685564e+09  1.041119e+09  8.942916e+09"
            ],
            "text/html": [
              "\n",
              "  <div id=\"df-fcf42117-7a82-4aa7-8298-ba83e8cd8645\">\n",
              "    <div class=\"colab-df-container\">\n",
              "      <div>\n",
              "<style scoped>\n",
              "    .dataframe tbody tr th:only-of-type {\n",
              "        vertical-align: middle;\n",
              "    }\n",
              "\n",
              "    .dataframe tbody tr th {\n",
              "        vertical-align: top;\n",
              "    }\n",
              "\n",
              "    .dataframe thead th {\n",
              "        text-align: right;\n",
              "    }\n",
              "</style>\n",
              "<table border=\"1\" class=\"dataframe\">\n",
              "  <thead>\n",
              "    <tr style=\"text-align: right;\">\n",
              "      <th></th>\n",
              "      <th>pred</th>\n",
              "      <th>lower_bound</th>\n",
              "      <th>upper_bound</th>\n",
              "    </tr>\n",
              "  </thead>\n",
              "  <tbody>\n",
              "    <tr>\n",
              "      <th>2021-10-02 23:00:00</th>\n",
              "      <td>4.685564e+09</td>\n",
              "      <td>1.081363e+09</td>\n",
              "      <td>8.942916e+09</td>\n",
              "    </tr>\n",
              "    <tr>\n",
              "      <th>2021-10-03 00:00:00</th>\n",
              "      <td>4.685564e+09</td>\n",
              "      <td>1.081363e+09</td>\n",
              "      <td>9.252964e+09</td>\n",
              "    </tr>\n",
              "    <tr>\n",
              "      <th>2021-10-03 01:00:00</th>\n",
              "      <td>4.685564e+09</td>\n",
              "      <td>6.789309e+08</td>\n",
              "      <td>9.252964e+09</td>\n",
              "    </tr>\n",
              "    <tr>\n",
              "      <th>2021-10-03 02:00:00</th>\n",
              "      <td>4.685564e+09</td>\n",
              "      <td>1.041119e+09</td>\n",
              "      <td>8.942916e+09</td>\n",
              "    </tr>\n",
              "  </tbody>\n",
              "</table>\n",
              "</div>\n",
              "      <button class=\"colab-df-convert\" onclick=\"convertToInteractive('df-fcf42117-7a82-4aa7-8298-ba83e8cd8645')\"\n",
              "              title=\"Convert this dataframe to an interactive table.\"\n",
              "              style=\"display:none;\">\n",
              "        \n",
              "  <svg xmlns=\"http://www.w3.org/2000/svg\" height=\"24px\"viewBox=\"0 0 24 24\"\n",
              "       width=\"24px\">\n",
              "    <path d=\"M0 0h24v24H0V0z\" fill=\"none\"/>\n",
              "    <path d=\"M18.56 5.44l.94 2.06.94-2.06 2.06-.94-2.06-.94-.94-2.06-.94 2.06-2.06.94zm-11 1L8.5 8.5l.94-2.06 2.06-.94-2.06-.94L8.5 2.5l-.94 2.06-2.06.94zm10 10l.94 2.06.94-2.06 2.06-.94-2.06-.94-.94-2.06-.94 2.06-2.06.94z\"/><path d=\"M17.41 7.96l-1.37-1.37c-.4-.4-.92-.59-1.43-.59-.52 0-1.04.2-1.43.59L10.3 9.45l-7.72 7.72c-.78.78-.78 2.05 0 2.83L4 21.41c.39.39.9.59 1.41.59.51 0 1.02-.2 1.41-.59l7.78-7.78 2.81-2.81c.8-.78.8-2.07 0-2.86zM5.41 20L4 18.59l7.72-7.72 1.47 1.35L5.41 20z\"/>\n",
              "  </svg>\n",
              "      </button>\n",
              "      \n",
              "  <style>\n",
              "    .colab-df-container {\n",
              "      display:flex;\n",
              "      flex-wrap:wrap;\n",
              "      gap: 12px;\n",
              "    }\n",
              "\n",
              "    .colab-df-convert {\n",
              "      background-color: #E8F0FE;\n",
              "      border: none;\n",
              "      border-radius: 50%;\n",
              "      cursor: pointer;\n",
              "      display: none;\n",
              "      fill: #1967D2;\n",
              "      height: 32px;\n",
              "      padding: 0 0 0 0;\n",
              "      width: 32px;\n",
              "    }\n",
              "\n",
              "    .colab-df-convert:hover {\n",
              "      background-color: #E2EBFA;\n",
              "      box-shadow: 0px 1px 2px rgba(60, 64, 67, 0.3), 0px 1px 3px 1px rgba(60, 64, 67, 0.15);\n",
              "      fill: #174EA6;\n",
              "    }\n",
              "\n",
              "    [theme=dark] .colab-df-convert {\n",
              "      background-color: #3B4455;\n",
              "      fill: #D2E3FC;\n",
              "    }\n",
              "\n",
              "    [theme=dark] .colab-df-convert:hover {\n",
              "      background-color: #434B5C;\n",
              "      box-shadow: 0px 1px 3px 1px rgba(0, 0, 0, 0.15);\n",
              "      filter: drop-shadow(0px 1px 2px rgba(0, 0, 0, 0.3));\n",
              "      fill: #FFFFFF;\n",
              "    }\n",
              "  </style>\n",
              "\n",
              "      <script>\n",
              "        const buttonEl =\n",
              "          document.querySelector('#df-fcf42117-7a82-4aa7-8298-ba83e8cd8645 button.colab-df-convert');\n",
              "        buttonEl.style.display =\n",
              "          google.colab.kernel.accessAllowed ? 'block' : 'none';\n",
              "\n",
              "        async function convertToInteractive(key) {\n",
              "          const element = document.querySelector('#df-fcf42117-7a82-4aa7-8298-ba83e8cd8645');\n",
              "          const dataTable =\n",
              "            await google.colab.kernel.invokeFunction('convertToInteractive',\n",
              "                                                     [key], {});\n",
              "          if (!dataTable) return;\n",
              "\n",
              "          const docLinkHtml = 'Like what you see? Visit the ' +\n",
              "            '<a target=\"_blank\" href=https://colab.research.google.com/notebooks/data_table.ipynb>data table notebook</a>'\n",
              "            + ' to learn more about interactive tables.';\n",
              "          element.innerHTML = '';\n",
              "          dataTable['output_type'] = 'display_data';\n",
              "          await google.colab.output.renderOutput(dataTable, element);\n",
              "          const docLink = document.createElement('div');\n",
              "          docLink.innerHTML = docLinkHtml;\n",
              "          element.appendChild(docLink);\n",
              "        }\n",
              "      </script>\n",
              "    </div>\n",
              "  </div>\n",
              "  "
            ]
          },
          "metadata": {},
          "execution_count": 33
        }
      ]
    },
    {
      "cell_type": "code",
      "source": [
        "#@title Cobertura del intervalo\n",
        "# Cobertura del intervalo en los datos de test\n",
        "# ==============================================================================\n",
        "\n",
        "def calculate_coverage(predictions, data):\n",
        "    # Calculate the coverage of the interval in the test data\n",
        "    inside_interval = np.where(\n",
        "                         (data.loc[predictions.index, 'Demanda'] >= predictions['lower_bound']) & \\\n",
        "                         (data.loc[predictions.index, 'Demanda'] <= predictions['upper_bound']),\n",
        "                         True,\n",
        "                         False\n",
        "                      )\n",
        "\n",
        "    coverage = inside_interval.mean()\n",
        "    return coverage"
      ],
      "metadata": {
        "id": "vnvp8No76XWd",
        "cellView": "form"
      },
      "execution_count": 34,
      "outputs": []
    },
    {
      "cell_type": "code",
      "source": [
        "coverage = calculate_coverage(predictions, datos)\n",
        "print(f\"Cobertura del intervalo predicho con los datos de test: {100 * coverage}\")"
      ],
      "metadata": {
        "colab": {
          "base_uri": "https://localhost:8080/"
        },
        "id": "Nd6lQWLo6DO5",
        "outputId": "ebd5375b-0342-48d1-f2b4-383d2b07f88f"
      },
      "execution_count": 35,
      "outputs": [
        {
          "output_type": "stream",
          "name": "stdout",
          "text": [
            "Cobertura del intervalo predicho con los datos de test: 56.241610738255034\n"
          ]
        }
      ]
    },
    {
      "cell_type": "code",
      "source": [
        "#@title grafico\n",
        "# Gráfico\n",
        "# ==============================================================================\n",
        "import matplotlib.pyplot as plt\n",
        "import matplotlib.ticker as ticker\n",
        "\n",
        "def plot_energy_demand(datos, predictions, figsize=(11, 3)):\n",
        "    fig, ax = plt.subplots(figsize=figsize)\n",
        "    datos.Demanda['2021-10-01 00:00':'2021-11-02 23:00'].plot(ax=ax, label='Demanda', linewidth=3, color=\"#23b7ff\")\n",
        "    ax.fill_between(\n",
        "        predictions.index,\n",
        "        predictions['lower_bound'],\n",
        "        predictions['upper_bound'],\n",
        "        color = 'deepskyblue',\n",
        "        alpha = 0.3,\n",
        "        label = '80% interval'\n",
        "    )\n",
        "    ax.yaxis.set_major_formatter(ticker.EngFormatter())\n",
        "    ax.set_ylabel('MW')\n",
        "    ax.set_title('Predicción de la demanda energética')\n",
        "    ax.legend()"
      ],
      "metadata": {
        "id": "VGdNokqiDl9M",
        "cellView": "form"
      },
      "execution_count": 36,
      "outputs": []
    },
    {
      "cell_type": "code",
      "source": [
        "plot_energy_demand(datos, predictions)"
      ],
      "metadata": {
        "colab": {
          "base_uri": "https://localhost:8080/",
          "height": 336
        },
        "id": "zxoC9m5oESU7",
        "outputId": "863f254e-1d50-4c80-dd6c-d6102d835848"
      },
      "execution_count": 28,
      "outputs": [
        {
          "output_type": "display_data",
          "data": {
            "text/plain": [
              "<Figure size 1100x300 with 1 Axes>"
            ],
            "image/png": "[encoded data removed]"
          },
          "metadata": {}
        }
      ]
    },
    {
      "cell_type": "code",
      "source": [
        "from sklearn.metrics import mean_squared_error\n",
        "\n",
        "def calculate_mse(datos, predictions):\n",
        "    error_mse = mean_squared_error(\n",
        "        y_true = datos.Demanda['2021-10-01 00:00':'2021-11-01 00:00'],\n",
        "        y_pred = predictions.iloc[:, 0]\n",
        "    )\n",
        "    return error_mse\n"
      ],
      "metadata": {
        "id": "4YOUv3Y1EUvW"
      },
      "execution_count": 29,
      "outputs": []
    },
    {
      "cell_type": "code",
      "source": [
        "error_mse = calculate_mse(datos, predictions)\n",
        "print(f\"Test error (mse): {error_mse}\")"
      ],
      "metadata": {
        "colab": {
          "base_uri": "https://localhost:8080/"
        },
        "id": "iT5GqoJfEllV",
        "outputId": "eec5ad95-1be3-411c-a571-4e8fcb6fa569"
      },
      "execution_count": 30,
      "outputs": [
        {
          "output_type": "stream",
          "name": "stdout",
          "text": [
            "Test error (mse): 7.91099277887778e+18\n"
          ]
        }
      ]
    }
  ]
}