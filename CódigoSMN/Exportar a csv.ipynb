{
 "cells": [
  {
   "cell_type": "code",
   "execution_count": 24,
   "metadata": {},
   "outputs": [],
   "source": [
    "import csv\n",
    "from datetime import datetime\n",
    "from dateutil.relativedelta import relativedelta\n",
    "\n",
    "import pandas as pd\n",
    "import os"
   ]
  },
  {
   "cell_type": "code",
   "execution_count": 27,
   "metadata": {},
   "outputs": [],
   "source": [
    "def getData(nombre):\n",
    "    with open('datos/'+nombre, encoding='latin-1') as f:\n",
    "        reader = csv.reader(f, delimiter=' ')\n",
    "        [next(reader) for _ in range(2)]\n",
    "        salida = []\n",
    "        for row in reader:\n",
    "            row = list(filter(lambda x: x != '', row))\n",
    "            city = ' '.join(row[7:])\n",
    "            if 'CORDOBA' in city:\n",
    "                date = datetime.strptime(row[0],'%d%m%Y') + relativedelta(hours=int(row[1]))\n",
    "                salida.append([date.isoformat()] + row[2:7] + [city])\n",
    "        f.close()\n",
    "    return [['FECHA','TEMP','HUM','PNM','DD','FF','NOMBRE']] + salida"
   ]
  },
  {
   "cell_type": "code",
   "execution_count": 29,
   "metadata": {},
   "outputs": [],
   "source": [
    "for name in os.listdir('datos'):\n",
    "    data = getData(name)\n",
    "    dataframe = pd.DataFrame(data[1:], columns=data[0]) \n",
    "    dataframe.to_csv('csvs/' + name.split('.')[0] + '.csv', sep=';')"
   ]
  }
 ],
 "metadata": {
  "interpreter": {
   "hash": "31f2aee4e71d21fbe5cf8b01ff0e069b9275f58929596ceb00d14d90e3e16cd6"
  },
  "kernelspec": {
   "display_name": "Python 3.8.10 64-bit",
   "language": "python",
   "name": "python3"
  },
  "language_info": {
   "codemirror_mode": {
    "name": "ipython",
    "version": 3
   },
   "file_extension": ".py",
   "mimetype": "text/x-python",
   "name": "python",
   "nbconvert_exporter": "python",
   "pygments_lexer": "ipython3",
   "version": "3.8.10"
  },
  "orig_nbformat": 4
 },
 "nbformat": 4,
 "nbformat_minor": 2
}
