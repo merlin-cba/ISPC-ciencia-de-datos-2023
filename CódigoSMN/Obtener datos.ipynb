{
 "cells": [
  {
   "cell_type": "code",
   "execution_count": 1,
   "metadata": {},
   "outputs": [],
   "source": [
    "import csv\n",
    "import grequests\n",
    "from datetime import datetime\n",
    "from dateutil.relativedelta import relativedelta"
   ]
  },
  {
   "cell_type": "code",
   "execution_count": 2,
   "metadata": {},
   "outputs": [],
   "source": [
    "today = datetime(2022,4,30)\n",
    "year_ago = datetime(2021,4,1)\n",
    "requests = []\n",
    "while year_ago < today:\n",
    "    date = year_ago.strftime('%Y%m%d') \n",
    "    requests.append(grequests.get(f\"https://ssl.smn.gob.ar/dpd/descarga_opendata.php?file=observaciones/datohorario{date}.txt\"))\n",
    "    year_ago = year_ago + relativedelta(days=1)"
   ]
  },
  {
   "cell_type": "code",
   "execution_count": 3,
   "metadata": {},
   "outputs": [],
   "source": [
    "for r in grequests.map(requests):\n",
    "    with open('datos/'+r.headers['Content-Disposition'].split('=')[-1], 'wb') as f:\n",
    "        for chunk in r.iter_content(chunk_size=8192): \n",
    "            f.write(chunk)\n",
    "        f.close()"
   ]
  }
 ],
 "metadata": {
  "interpreter": {
   "hash": "916dbcbb3f70747c44a77c7bcd40155683ae19c65e1c03b4aa3499c5328201f1"
  },
  "kernelspec": {
   "display_name": "Python 3.8.10 64-bit",
   "language": "python",
   "name": "python3"
  },
  "language_info": {
   "codemirror_mode": {
    "name": "ipython",
    "version": 3
   },
   "file_extension": ".py",
   "mimetype": "text/x-python",
   "name": "python",
   "nbconvert_exporter": "python",
   "pygments_lexer": "ipython3",
   "version": "3.8.10"
  },
  "orig_nbformat": 4
 },
 "nbformat": 4,
 "nbformat_minor": 2
}
